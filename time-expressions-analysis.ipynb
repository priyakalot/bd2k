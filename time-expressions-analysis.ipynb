{
 "cells": [
  {
   "cell_type": "markdown",
   "metadata": {},
   "source": [
    "## HeartBD2K Data Science Internship Fall 2017\n",
    "### Priyanka Nanayakkara\n",
    "\n",
    "The goal of the following project is to analyze time expressions (for example: \"2 years later,\" \"daily\") in case reports on PubMed. To extract time expressions from the text, I used SUTime (http://nlp.stanford.edu:8080/sutime/process) and a Python wrapper for SUTime (https://github.com/FraBle/python-sutime)."
   ]
  },
  {
   "cell_type": "markdown",
   "metadata": {},
   "source": [
    "SUTime returns annotations as JSON objects. The following reads in the annotations and adds them to a dataframe."
   ]
  },
  {
   "cell_type": "code",
   "execution_count": 2,
   "metadata": {
    "collapsed": true
   },
   "outputs": [],
   "source": [
    "import json\n",
    "import pandas as pd\n",
    "import matplotlib.pyplot as plt\n",
    "from collections import Counter\n",
    "import re\n",
    "from statistics import mean,median\n",
    "\n",
    "############### Importing data ######################\n",
    "# Case Reports part A\n",
    "with open('./time_expressions_part_a.txt', encoding = 'utf-8') as json_file:\n",
    "    data = json.load(json_file)\n",
    "\n",
    "ann1 = data['annotations']\n",
    "\n",
    "df = pd.DataFrame()\n",
    "\n",
    "for i in range(0,100):\n",
    "    temp = pd.read_json(ann1[i])\n",
    "    temp['case_report'] = [i] * len(temp)\n",
    "    df = df.append(temp)\n",
    "\n",
    "# Case Reports part B\n",
    "with open('./time_expressions_part_b.txt', encoding = 'utf-8') as json_file:\n",
    "    data2 = json.load(json_file)\n",
    "\n",
    "ann2 = data2['annotations']\n",
    "\n",
    "df2 = pd.DataFrame()\n",
    "\n",
    "for i in range(0,100):\n",
    "    temp = pd.read_json(ann2[i])\n",
    "    CR = i + 100\n",
    "    temp['case_report'] = [CR] * len(temp)\n",
    "    df2 = df2.append(temp)\n",
    "\n",
    "ann = df.append(df2)\n",
    "ann = ann.reset_index(drop=True) # number indices"
   ]
  },
  {
   "cell_type": "markdown",
   "metadata": {},
   "source": [
    "There were 1732 time phrases picked up by SUTime in 200 case reports."
   ]
  },
  {
   "cell_type": "code",
   "execution_count": 3,
   "metadata": {},
   "outputs": [
    {
     "data": {
      "text/plain": [
       "1732"
      ]
     },
     "execution_count": 3,
     "metadata": {},
     "output_type": "execute_result"
    }
   ],
   "source": [
    "############### Exploring ###############################\n",
    "\n",
    "# How many annotations?\n",
    "len(ann)"
   ]
  },
  {
   "cell_type": "markdown",
   "metadata": {},
   "source": [
    "The mean number of time phrases per case report was 8.66, while the median was 7."
   ]
  },
  {
   "cell_type": "code",
   "execution_count": 11,
   "metadata": {},
   "outputs": [
    {
     "data": {
      "text/plain": [
       "8.66"
      ]
     },
     "execution_count": 11,
     "metadata": {},
     "output_type": "execute_result"
    }
   ],
   "source": [
    "cr_counts=Counter(ann['case_report'])\n",
    "\n",
    "mean(cr_counts.values())"
   ]
  },
  {
   "cell_type": "code",
   "execution_count": 12,
   "metadata": {
    "scrolled": true
   },
   "outputs": [
    {
     "data": {
      "text/plain": [
       "7.0"
      ]
     },
     "execution_count": 12,
     "metadata": {},
     "output_type": "execute_result"
    }
   ],
   "source": [
    "median(cr_counts.values())"
   ]
  },
  {
   "cell_type": "markdown",
   "metadata": {},
   "source": [
    "To get a better sense of the distribution of phrases per case report, see the histogram below.\n",
    "The distribution is skewed right."
   ]
  },
  {
   "cell_type": "code",
   "execution_count": 13,
   "metadata": {
    "scrolled": true
   },
   "outputs": [
    {
     "data": {
      "image/png": "[encoded data removed]",
      "text/plain": [
       "<matplotlib.figure.Figure at 0xb7e0eb8>"
      ]
     },
     "metadata": {},
     "output_type": "display_data"
    }
   ],
   "source": [
    "# histogram of time phrases per case report\n",
    "plt.hist(cr_counts.values(),bins=20,histtype='bar',ec='black')\n",
    "plt.xlabel('Number of time phrases per case report')\n",
    "plt.ylabel('Frequency')\n",
    "plt.title('Time Phrases Per Case Report')\n",
    "plt.show()"
   ]
  },
  {
   "cell_type": "markdown",
   "metadata": {},
   "source": [
    "SUTime labels time phrases with one of four values: DATE, DURATION, SET, TIME.\n",
    "<br>\n",
    "<br>\n",
    "An example of each from this data are as follows:\n",
    "<br>\n",
    "<br>\n",
    "-DATE: March 2011\n",
    "<br>\n",
    "-DURATION: 12 months \n",
    "<br>\n",
    "-SET: daily \n",
    "<br>\n",
    "-TIME: one in the evening"
   ]
  },
  {
   "cell_type": "markdown",
   "metadata": {},
   "source": [
    "The number of each category of time phrase is below."
   ]
  },
  {
   "cell_type": "code",
   "execution_count": 19,
   "metadata": {},
   "outputs": [
    {
     "data": {
      "text/plain": [
       "Counter({'DATE': 526, 'DURATION': 1035, 'SET': 133, 'TIME': 38})"
      ]
     },
     "execution_count": 19,
     "metadata": {},
     "output_type": "execute_result"
    }
   ],
   "source": [
    "types=Counter(ann['type'])\n",
    "types"
   ]
  },
  {
   "cell_type": "markdown",
   "metadata": {},
   "source": [
    "DURATION is clearly the most common type of annotation in this dataset."
   ]
  },
  {
   "cell_type": "code",
   "execution_count": 20,
   "metadata": {},
   "outputs": [
    {
     "data": {
      "image/png": "[encoded data removed]",
      "text/plain": [
       "<matplotlib.figure.Figure at 0xb90d5c0>"
      ]
     },
     "metadata": {},
     "output_type": "display_data"
    }
   ],
   "source": [
    "plt.bar(types.keys(),types.values())\n",
    "plt.xlabel('Type')\n",
    "plt.ylabel('Frequency')\n",
    "plt.title('Annotation Types')\n",
    "plt.show()"
   ]
  }
 ],
 "metadata": {
  "kernelspec": {
   "display_name": "Python 3",
   "language": "python",
   "name": "python3"
  },
  "language_info": {
   "codemirror_mode": {
    "name": "ipython",
    "version": 3
   },
   "file_extension": ".py",
   "mimetype": "text/x-python",
   "name": "python",
   "nbconvert_exporter": "python",
   "pygments_lexer": "ipython3",
   "version": "3.6.3"
  }
 },
 "nbformat": 4,
 "nbformat_minor": 2
}
